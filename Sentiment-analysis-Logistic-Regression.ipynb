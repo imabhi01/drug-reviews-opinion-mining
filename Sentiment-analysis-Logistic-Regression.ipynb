{
 "cells": [
  {
   "cell_type": "code",
   "execution_count": 212,
   "id": "949671b4-b422-4efb-b835-e51cca8ed8b2",
   "metadata": {},
   "outputs": [],
   "source": [
    "import pandas as pd\n",
    "import numpy as np\n",
    "import matplotlib.pyplot as plt\n",
    "from sklearn.model_selection import train_test_split"
   ]
  },
  {
   "cell_type": "code",
   "execution_count": 213,
   "id": "443427e3",
   "metadata": {},
   "outputs": [
    {
     "name": "stdout",
     "output_type": "stream",
     "text": [
      "trainDataset size (161297, 7)\n",
      "testDataset size (53766, 7)\n"
     ]
    }
   ],
   "source": [
    "trainDataset = pd.read_csv(\"drugsComTrain_raw.tsv\", sep = '\\t')\n",
    "testDataset = pd.read_csv(\"drugsComTest_raw.tsv\", sep = '\\t')\n",
    "\n",
    "print('trainDataset size' , trainDataset.shape)\n",
    "print('testDataset size' , testDataset.shape)"
   ]
  },
  {
   "cell_type": "code",
   "execution_count": 214,
   "id": "b95ad20a",
   "metadata": {},
   "outputs": [
    {
     "name": "stdout",
     "output_type": "stream",
     "text": [
      "Final concatenated Dataset  (215063, 7)\n"
     ]
    },
    {
     "data": {
      "text/html": [
       "<div>\n",
       "<style scoped>\n",
       "    .dataframe tbody tr th:only-of-type {\n",
       "        vertical-align: middle;\n",
       "    }\n",
       "\n",
       "    .dataframe tbody tr th {\n",
       "        vertical-align: top;\n",
       "    }\n",
       "\n",
       "    .dataframe thead th {\n",
       "        text-align: right;\n",
       "    }\n",
       "</style>\n",
       "<table border=\"1\" class=\"dataframe\">\n",
       "  <thead>\n",
       "    <tr style=\"text-align: right;\">\n",
       "      <th></th>\n",
       "      <th>Unnamed: 0</th>\n",
       "      <th>drugName</th>\n",
       "      <th>condition</th>\n",
       "      <th>review</th>\n",
       "      <th>rating</th>\n",
       "      <th>date</th>\n",
       "      <th>usefulCount</th>\n",
       "    </tr>\n",
       "  </thead>\n",
       "  <tbody>\n",
       "    <tr>\n",
       "      <th>0</th>\n",
       "      <td>206461</td>\n",
       "      <td>Valsartan</td>\n",
       "      <td>Left Ventricular Dysfunction</td>\n",
       "      <td>\"It has no side effect, I take it in combinati...</td>\n",
       "      <td>9.0</td>\n",
       "      <td>May 20, 2012</td>\n",
       "      <td>27</td>\n",
       "    </tr>\n",
       "    <tr>\n",
       "      <th>1</th>\n",
       "      <td>95260</td>\n",
       "      <td>Guanfacine</td>\n",
       "      <td>ADHD</td>\n",
       "      <td>\"My son is halfway through his fourth week of ...</td>\n",
       "      <td>8.0</td>\n",
       "      <td>April 27, 2010</td>\n",
       "      <td>192</td>\n",
       "    </tr>\n",
       "    <tr>\n",
       "      <th>2</th>\n",
       "      <td>92703</td>\n",
       "      <td>Lybrel</td>\n",
       "      <td>Birth Control</td>\n",
       "      <td>\"I used to take another oral contraceptive, wh...</td>\n",
       "      <td>5.0</td>\n",
       "      <td>December 14, 2009</td>\n",
       "      <td>17</td>\n",
       "    </tr>\n",
       "    <tr>\n",
       "      <th>3</th>\n",
       "      <td>138000</td>\n",
       "      <td>Ortho Evra</td>\n",
       "      <td>Birth Control</td>\n",
       "      <td>\"This is my first time using any form of birth...</td>\n",
       "      <td>8.0</td>\n",
       "      <td>November 3, 2015</td>\n",
       "      <td>10</td>\n",
       "    </tr>\n",
       "    <tr>\n",
       "      <th>4</th>\n",
       "      <td>35696</td>\n",
       "      <td>Buprenorphine / naloxone</td>\n",
       "      <td>Opiate Dependence</td>\n",
       "      <td>\"Suboxone has completely turned my life around...</td>\n",
       "      <td>9.0</td>\n",
       "      <td>November 27, 2016</td>\n",
       "      <td>37</td>\n",
       "    </tr>\n",
       "  </tbody>\n",
       "</table>\n",
       "</div>"
      ],
      "text/plain": [
       "   Unnamed: 0                  drugName                     condition  \\\n",
       "0      206461                 Valsartan  Left Ventricular Dysfunction   \n",
       "1       95260                Guanfacine                          ADHD   \n",
       "2       92703                    Lybrel                 Birth Control   \n",
       "3      138000                Ortho Evra                 Birth Control   \n",
       "4       35696  Buprenorphine / naloxone             Opiate Dependence   \n",
       "\n",
       "                                              review  rating  \\\n",
       "0  \"It has no side effect, I take it in combinati...     9.0   \n",
       "1  \"My son is halfway through his fourth week of ...     8.0   \n",
       "2  \"I used to take another oral contraceptive, wh...     5.0   \n",
       "3  \"This is my first time using any form of birth...     8.0   \n",
       "4  \"Suboxone has completely turned my life around...     9.0   \n",
       "\n",
       "                date  usefulCount  \n",
       "0       May 20, 2012           27  \n",
       "1     April 27, 2010          192  \n",
       "2  December 14, 2009           17  \n",
       "3   November 3, 2015           10  \n",
       "4  November 27, 2016           37  "
      ]
     },
     "execution_count": 214,
     "metadata": {},
     "output_type": "execute_result"
    }
   ],
   "source": [
    "data = pd.concat([trainDataset, testDataset])\n",
    "print('Final concatenated Dataset ', data.shape)\n",
    "data.head()\n"
   ]
  },
  {
   "cell_type": "code",
   "execution_count": 215,
   "id": "e7a22539",
   "metadata": {},
   "outputs": [
    {
     "data": {
      "text/html": [
       "<div>\n",
       "<style scoped>\n",
       "    .dataframe tbody tr th:only-of-type {\n",
       "        vertical-align: middle;\n",
       "    }\n",
       "\n",
       "    .dataframe tbody tr th {\n",
       "        vertical-align: top;\n",
       "    }\n",
       "\n",
       "    .dataframe thead th {\n",
       "        text-align: right;\n",
       "    }\n",
       "</style>\n",
       "<table border=\"1\" class=\"dataframe\">\n",
       "  <thead>\n",
       "    <tr style=\"text-align: right;\">\n",
       "      <th></th>\n",
       "      <th>Id</th>\n",
       "      <th>drugName</th>\n",
       "      <th>condition</th>\n",
       "      <th>review</th>\n",
       "      <th>rating</th>\n",
       "      <th>date</th>\n",
       "      <th>usefulCount</th>\n",
       "    </tr>\n",
       "  </thead>\n",
       "  <tbody>\n",
       "    <tr>\n",
       "      <th>0</th>\n",
       "      <td>206461</td>\n",
       "      <td>Valsartan</td>\n",
       "      <td>Left Ventricular Dysfunction</td>\n",
       "      <td>\"It has no side effect, I take it in combinati...</td>\n",
       "      <td>9.0</td>\n",
       "      <td>May 20, 2012</td>\n",
       "      <td>27</td>\n",
       "    </tr>\n",
       "    <tr>\n",
       "      <th>1</th>\n",
       "      <td>95260</td>\n",
       "      <td>Guanfacine</td>\n",
       "      <td>ADHD</td>\n",
       "      <td>\"My son is halfway through his fourth week of ...</td>\n",
       "      <td>8.0</td>\n",
       "      <td>April 27, 2010</td>\n",
       "      <td>192</td>\n",
       "    </tr>\n",
       "    <tr>\n",
       "      <th>2</th>\n",
       "      <td>92703</td>\n",
       "      <td>Lybrel</td>\n",
       "      <td>Birth Control</td>\n",
       "      <td>\"I used to take another oral contraceptive, wh...</td>\n",
       "      <td>5.0</td>\n",
       "      <td>December 14, 2009</td>\n",
       "      <td>17</td>\n",
       "    </tr>\n",
       "    <tr>\n",
       "      <th>3</th>\n",
       "      <td>138000</td>\n",
       "      <td>Ortho Evra</td>\n",
       "      <td>Birth Control</td>\n",
       "      <td>\"This is my first time using any form of birth...</td>\n",
       "      <td>8.0</td>\n",
       "      <td>November 3, 2015</td>\n",
       "      <td>10</td>\n",
       "    </tr>\n",
       "    <tr>\n",
       "      <th>4</th>\n",
       "      <td>35696</td>\n",
       "      <td>Buprenorphine / naloxone</td>\n",
       "      <td>Opiate Dependence</td>\n",
       "      <td>\"Suboxone has completely turned my life around...</td>\n",
       "      <td>9.0</td>\n",
       "      <td>November 27, 2016</td>\n",
       "      <td>37</td>\n",
       "    </tr>\n",
       "  </tbody>\n",
       "</table>\n",
       "</div>"
      ],
      "text/plain": [
       "       Id                  drugName                     condition  \\\n",
       "0  206461                 Valsartan  Left Ventricular Dysfunction   \n",
       "1   95260                Guanfacine                          ADHD   \n",
       "2   92703                    Lybrel                 Birth Control   \n",
       "3  138000                Ortho Evra                 Birth Control   \n",
       "4   35696  Buprenorphine / naloxone             Opiate Dependence   \n",
       "\n",
       "                                              review  rating  \\\n",
       "0  \"It has no side effect, I take it in combinati...     9.0   \n",
       "1  \"My son is halfway through his fourth week of ...     8.0   \n",
       "2  \"I used to take another oral contraceptive, wh...     5.0   \n",
       "3  \"This is my first time using any form of birth...     8.0   \n",
       "4  \"Suboxone has completely turned my life around...     9.0   \n",
       "\n",
       "                date  usefulCount  \n",
       "0       May 20, 2012           27  \n",
       "1     April 27, 2010          192  \n",
       "2  December 14, 2009           17  \n",
       "3   November 3, 2015           10  \n",
       "4  November 27, 2016           37  "
      ]
     },
     "execution_count": 215,
     "metadata": {},
     "output_type": "execute_result"
    }
   ],
   "source": [
    "data.columns = ['Id', 'drugName', 'condition', 'review', 'rating', 'date', 'usefulCount']\n",
    "data.head()"
   ]
  },
  {
   "cell_type": "code",
   "execution_count": 216,
   "id": "75884c1b",
   "metadata": {},
   "outputs": [
    {
     "data": {
      "text/plain": [
       "(213869, 7)"
      ]
     },
     "execution_count": 216,
     "metadata": {},
     "output_type": "execute_result"
    }
   ],
   "source": [
    "data.isnull().sum()\n",
    "data.dropna(inplace=True)\n",
    "data.isnull().sum()\n",
    "data.shape"
   ]
  },
  {
   "cell_type": "code",
   "execution_count": 217,
   "id": "19840b8b",
   "metadata": {},
   "outputs": [
    {
     "name": "stdout",
     "output_type": "stream",
     "text": [
      "<class 'pandas.core.frame.DataFrame'>\n",
      "Index: 213869 entries, 0 to 53765\n",
      "Data columns (total 7 columns):\n",
      " #   Column       Non-Null Count   Dtype  \n",
      "---  ------       --------------   -----  \n",
      " 0   Id           213869 non-null  int64  \n",
      " 1   drugName     213869 non-null  object \n",
      " 2   condition    213869 non-null  object \n",
      " 3   review       213869 non-null  object \n",
      " 4   rating       213869 non-null  float64\n",
      " 5   date         213869 non-null  object \n",
      " 6   usefulCount  213869 non-null  int64  \n",
      "dtypes: float64(1), int64(2), object(4)\n",
      "memory usage: 13.1+ MB\n"
     ]
    }
   ],
   "source": [
    "data.info()"
   ]
  },
  {
   "cell_type": "code",
   "execution_count": 218,
   "id": "90e32ae1",
   "metadata": {},
   "outputs": [
    {
     "data": {
      "text/plain": [
       "213869"
      ]
     },
     "execution_count": 218,
     "metadata": {},
     "output_type": "execute_result"
    }
   ],
   "source": [
    "data['Id'].nunique()"
   ]
  },
  {
   "cell_type": "code",
   "execution_count": 219,
   "id": "2daa45bb",
   "metadata": {},
   "outputs": [
    {
     "data": {
      "text/plain": [
       "1    \"My son is halfway through his fourth week of ...\n",
       "1    \"My son has Crohn&#039;s disease and has done ...\n",
       "Name: review, dtype: object"
      ]
     },
     "execution_count": 219,
     "metadata": {},
     "output_type": "execute_result"
    }
   ],
   "source": [
    "data['review'][1]"
   ]
  },
  {
   "cell_type": "code",
   "execution_count": 221,
   "id": "48447ff9",
   "metadata": {},
   "outputs": [
    {
     "data": {
      "text/plain": [
       "rating\n",
       "10.0    67682\n",
       "9.0     36499\n",
       "1.0     28769\n",
       "8.0     24909\n",
       "7.0     12470\n",
       "5.0     10650\n",
       "2.0      9203\n",
       "3.0      8662\n",
       "6.0      8403\n",
       "4.0      6622\n",
       "Name: count, dtype: int64"
      ]
     },
     "execution_count": 221,
     "metadata": {},
     "output_type": "execute_result"
    }
   ],
   "source": [
    "data['rating'].value_counts()"
   ]
  },
  {
   "cell_type": "markdown",
   "id": "698a4816",
   "metadata": {},
   "source": [
    "# Review Counts based on ratings"
   ]
  },
  {
   "cell_type": "code",
   "execution_count": 222,
   "id": "8101978b",
   "metadata": {},
   "outputs": [
    {
     "data": {
      "image/png": "[encoded data removed]",
      "text/plain": [
       "<Figure size 1500x300 with 1 Axes>"
      ]
     },
     "metadata": {},
     "output_type": "display_data"
    }
   ],
   "source": [
    "ax = data['rating'].value_counts().sort_index() \\\n",
    "    .plot(\n",
    "        kind='bar', \n",
    "        title=\"Review counts based on rating\",\n",
    "        figsize=((15, 3))\n",
    "    )\n",
    "ax.set_xlabel('Ratings')\n",
    "plt.show()"
   ]
  },
  {
   "cell_type": "code",
   "execution_count": 224,
   "id": "9ff64ace",
   "metadata": {},
   "outputs": [
    {
     "data": {
      "text/plain": [
       "['i',\n",
       " 'me',\n",
       " 'my',\n",
       " 'myself',\n",
       " 'we',\n",
       " 'our',\n",
       " 'ours',\n",
       " 'ourselves',\n",
       " 'you',\n",
       " \"you're\",\n",
       " \"you've\",\n",
       " \"you'll\",\n",
       " \"you'd\",\n",
       " 'your',\n",
       " 'yours',\n",
       " 'yourself',\n",
       " 'yourselves',\n",
       " 'he',\n",
       " 'him',\n",
       " 'his',\n",
       " 'himself',\n",
       " 'she',\n",
       " \"she's\",\n",
       " 'her',\n",
       " 'hers',\n",
       " 'herself',\n",
       " 'it',\n",
       " \"it's\",\n",
       " 'its',\n",
       " 'itself',\n",
       " 'they',\n",
       " 'them',\n",
       " 'their',\n",
       " 'theirs',\n",
       " 'themselves',\n",
       " 'what',\n",
       " 'which',\n",
       " 'who',\n",
       " 'whom',\n",
       " 'this',\n",
       " 'that',\n",
       " \"that'll\",\n",
       " 'these',\n",
       " 'those',\n",
       " 'am',\n",
       " 'is',\n",
       " 'are',\n",
       " 'was',\n",
       " 'were',\n",
       " 'be',\n",
       " 'been',\n",
       " 'being',\n",
       " 'have',\n",
       " 'has',\n",
       " 'had',\n",
       " 'having',\n",
       " 'do',\n",
       " 'does',\n",
       " 'did',\n",
       " 'doing',\n",
       " 'a',\n",
       " 'an',\n",
       " 'the',\n",
       " 'and',\n",
       " 'but',\n",
       " 'if',\n",
       " 'or',\n",
       " 'because',\n",
       " 'as',\n",
       " 'until',\n",
       " 'while',\n",
       " 'of',\n",
       " 'at',\n",
       " 'by',\n",
       " 'for',\n",
       " 'with',\n",
       " 'about',\n",
       " 'against',\n",
       " 'between',\n",
       " 'into',\n",
       " 'through',\n",
       " 'during',\n",
       " 'before',\n",
       " 'after',\n",
       " 'above',\n",
       " 'below',\n",
       " 'to',\n",
       " 'from',\n",
       " 'up',\n",
       " 'down',\n",
       " 'in',\n",
       " 'out',\n",
       " 'on',\n",
       " 'off',\n",
       " 'over',\n",
       " 'under',\n",
       " 'again',\n",
       " 'further',\n",
       " 'then',\n",
       " 'once',\n",
       " 'here',\n",
       " 'there',\n",
       " 'when',\n",
       " 'where',\n",
       " 'why',\n",
       " 'how',\n",
       " 'all',\n",
       " 'any',\n",
       " 'both',\n",
       " 'each',\n",
       " 'few',\n",
       " 'more',\n",
       " 'most',\n",
       " 'other',\n",
       " 'some',\n",
       " 'such',\n",
       " 'no',\n",
       " 'nor',\n",
       " 'not',\n",
       " 'only',\n",
       " 'own',\n",
       " 'same',\n",
       " 'so',\n",
       " 'than',\n",
       " 'too',\n",
       " 'very',\n",
       " 's',\n",
       " 't',\n",
       " 'can',\n",
       " 'will',\n",
       " 'just',\n",
       " 'don',\n",
       " \"don't\",\n",
       " 'should',\n",
       " \"should've\",\n",
       " 'now',\n",
       " 'd',\n",
       " 'll',\n",
       " 'm',\n",
       " 'o',\n",
       " 're',\n",
       " 've',\n",
       " 'y',\n",
       " 'ain',\n",
       " 'aren',\n",
       " \"aren't\",\n",
       " 'couldn',\n",
       " \"couldn't\",\n",
       " 'didn',\n",
       " \"didn't\",\n",
       " 'doesn',\n",
       " \"doesn't\",\n",
       " 'hadn',\n",
       " \"hadn't\",\n",
       " 'hasn',\n",
       " \"hasn't\",\n",
       " 'haven',\n",
       " \"haven't\",\n",
       " 'isn',\n",
       " \"isn't\",\n",
       " 'ma',\n",
       " 'mightn',\n",
       " \"mightn't\",\n",
       " 'mustn',\n",
       " \"mustn't\",\n",
       " 'needn',\n",
       " \"needn't\",\n",
       " 'shan',\n",
       " \"shan't\",\n",
       " 'shouldn',\n",
       " \"shouldn't\",\n",
       " 'wasn',\n",
       " \"wasn't\",\n",
       " 'weren',\n",
       " \"weren't\",\n",
       " 'won',\n",
       " \"won't\",\n",
       " 'wouldn',\n",
       " \"wouldn't\"]"
      ]
     },
     "execution_count": 224,
     "metadata": {},
     "output_type": "execute_result"
    }
   ],
   "source": [
    "import nltk\n",
    "from nltk.corpus import stopwords\n",
    "stopwords = stopwords.words('english')\n",
    "stopwords"
   ]
  },
  {
   "cell_type": "code",
   "execution_count": 225,
   "id": "a4d7e7dd",
   "metadata": {},
   "outputs": [],
   "source": [
    "# Stop words using normal looping + TO DO: REMOVE THIS LATER\n",
    "\n",
    "# for row in data['review']:\n",
    "#     for item in row.split():\n",
    "#         if(item not in stopwords):\n",
    "#             print(item)\n",
    "#             break\n",
    "\n",
    "# Removing stopwords from review columns\n",
    "data['cleanReview'] = data['review'].apply(lambda x: ' '.join([item for item in x.split() if item not in stopwords]))"
   ]
  },
  {
   "cell_type": "code",
   "execution_count": 192,
   "id": "f1db0045",
   "metadata": {},
   "outputs": [
    {
     "data": {
      "text/plain": [
       "0    \"It side effect, I take combination Bystolic 5...\n",
       "0    \"I&#039;ve tried antidepressants years (citalo...\n",
       "Name: cleanReview, dtype: object"
      ]
     },
     "execution_count": 192,
     "metadata": {},
     "output_type": "execute_result"
    }
   ],
   "source": [
    "data['cleanReview'][0]"
   ]
  },
  {
   "cell_type": "code",
   "execution_count": 226,
   "id": "3932a8b0",
   "metadata": {},
   "outputs": [],
   "source": [
    "import string\n",
    "\n",
    "def remove_punctuations(text):\n",
    "    for punctuation in string.punctuation:\n",
    "        text = text.replace(punctuation, '')\n",
    "    return text\n",
    "\n",
    "# Apply to the DF series\n",
    "data['cleanReview'] = data['cleanReview'].apply(remove_punctuations)\n"
   ]
  },
  {
   "cell_type": "code",
   "execution_count": 229,
   "id": "9b18bd96",
   "metadata": {},
   "outputs": [
    {
     "data": {
      "text/plain": [
       "0    It side effect I take combination Bystolic 5 M...\n",
       "1    My son halfway fourth week Intuniv We became c...\n",
       "2    I used take another oral contraceptive 21 pill...\n",
       "3    This first time using form birth control I039m...\n",
       "4    Suboxone completely turned life around I feel ...\n",
       "5    2nd day 5mg started work rock hard erections h...\n",
       "6    He pulled out cummed bit me I took Plan B 26 h...\n",
       "7    Abilify changed life There hope I Zoloft Cloni...\n",
       "8     I Ve nothing problems Keppera  constant shaki...\n",
       "9    I pill many years When doctor changed RX chate...\n",
       "Name: cleanReview, dtype: object"
      ]
     },
     "execution_count": 229,
     "metadata": {},
     "output_type": "execute_result"
    }
   ],
   "source": [
    "# Clean Reviews after removing punctuations\n",
    "data['cleanReview'].head(10)"
   ]
  },
  {
   "cell_type": "markdown",
   "id": "f81378df",
   "metadata": {},
   "source": [
    "# VADER Sentiment Scoring"
   ]
  },
  {
   "cell_type": "code",
   "execution_count": 230,
   "id": "f482d726",
   "metadata": {},
   "outputs": [],
   "source": [
    "import nltk\n",
    "from nltk.sentiment.vader import SentimentIntensityAnalyzer\n",
    "\n",
    "sia = SentimentIntensityAnalyzer()\n",
    "\n",
    "# data = data.head(50000)"
   ]
  },
  {
   "cell_type": "code",
   "execution_count": 231,
   "id": "d5e600a9",
   "metadata": {},
   "outputs": [],
   "source": [
    "data['vaderReviewScore'] = data['cleanReview'].apply(lambda x: sia.polarity_scores(x)['compound'])"
   ]
  },
  {
   "cell_type": "code",
   "execution_count": 233,
   "id": "40c99ffc",
   "metadata": {},
   "outputs": [
    {
     "data": {
      "text/plain": [
       "(213869, 9)"
      ]
     },
     "execution_count": 233,
     "metadata": {},
     "output_type": "execute_result"
    }
   ],
   "source": [
    "data.head()"
   ]
  },
  {
   "cell_type": "code",
   "execution_count": 206,
   "id": "4bc5aeb2",
   "metadata": {},
   "outputs": [
    {
     "name": "stdout",
     "output_type": "stream",
     "text": [
      "24095 2422 23480\n"
     ]
    }
   ],
   "source": [
    "positive_num = len(data[data['vaderReviewScore'] >= 0.05])\n",
    "negative_num = len(data[(data['vaderReviewScore'] > -0.05) & (data['vaderReviewScore'] < 0.05) ])\n",
    "neutral_num = len(data[data['vaderReviewScore'] <-0.05])\n",
    "\n",
    "print(positive_num, negative_num, neutral_num)"
   ]
  },
  {
   "cell_type": "code",
   "execution_count": 209,
   "id": "1494317b",
   "metadata": {},
   "outputs": [],
   "source": [
    "data['vaderSentiment'] = data['vaderReviewScore'].map(lambda x: int(2) if x >=0.05  else int(1) if x<=-0.05 else int(0))"
   ]
  },
  {
   "cell_type": "code",
   "execution_count": 211,
   "id": "9872c6d0",
   "metadata": {},
   "outputs": [
    {
     "data": {
      "text/plain": [
       "49997"
      ]
     },
     "execution_count": 211,
     "metadata": {},
     "output_type": "execute_result"
    }
   ],
   "source": [
    "Total_vaderSentiment = positive_num + neutral_num + negative_num\n",
    "Total_vaderSentiment"
   ]
  },
  {
   "cell_type": "code",
   "execution_count": 173,
   "id": "ab2c75fa",
   "metadata": {},
   "outputs": [
    {
     "data": {
      "application/vnd.jupyter.widget-view+json": {
       "model_id": "8c627ad027784a48a1c9e76f933e1e06",
       "version_major": 2,
       "version_minor": 0
      },
      "text/plain": [
       "  0%|          | 0/5000 [00:00<?, ?it/s]"
      ]
     },
     "metadata": {},
     "output_type": "display_data"
    }
   ],
   "source": [
    "from tqdm.notebook import tqdm\n",
    "\n",
    "res = {}\n",
    "\n",
    "for index, row in tqdm(data.iterrows(), total=len(data)):\n",
    "    res[index] = sia.polarity_scores(row['review'])"
   ]
  },
  {
   "cell_type": "code",
   "execution_count": 174,
   "id": "da2a998d",
   "metadata": {},
   "outputs": [
    {
     "data": {
      "text/html": [
       "<div>\n",
       "<style scoped>\n",
       "    .dataframe tbody tr th:only-of-type {\n",
       "        vertical-align: middle;\n",
       "    }\n",
       "\n",
       "    .dataframe tbody tr th {\n",
       "        vertical-align: top;\n",
       "    }\n",
       "\n",
       "    .dataframe thead th {\n",
       "        text-align: right;\n",
       "    }\n",
       "</style>\n",
       "<table border=\"1\" class=\"dataframe\">\n",
       "  <thead>\n",
       "    <tr style=\"text-align: right;\">\n",
       "      <th></th>\n",
       "      <th>Id</th>\n",
       "      <th>drugName</th>\n",
       "      <th>condition</th>\n",
       "      <th>review</th>\n",
       "      <th>rating</th>\n",
       "      <th>date</th>\n",
       "      <th>usefulCount</th>\n",
       "      <th>cleanReview</th>\n",
       "      <th>neg</th>\n",
       "      <th>neu</th>\n",
       "      <th>pos</th>\n",
       "      <th>compound</th>\n",
       "    </tr>\n",
       "  </thead>\n",
       "  <tbody>\n",
       "    <tr>\n",
       "      <th>0</th>\n",
       "      <td>206461</td>\n",
       "      <td>Valsartan</td>\n",
       "      <td>Left Ventricular Dysfunction</td>\n",
       "      <td>\"It has no side effect, I take it in combinati...</td>\n",
       "      <td>9.0</td>\n",
       "      <td>May 20, 2012</td>\n",
       "      <td>27</td>\n",
       "      <td>It side effect I take combination Bystolic 5 M...</td>\n",
       "      <td>NaN</td>\n",
       "      <td>NaN</td>\n",
       "      <td>NaN</td>\n",
       "      <td>NaN</td>\n",
       "    </tr>\n",
       "    <tr>\n",
       "      <th>1</th>\n",
       "      <td>95260</td>\n",
       "      <td>Guanfacine</td>\n",
       "      <td>ADHD</td>\n",
       "      <td>\"My son is halfway through his fourth week of ...</td>\n",
       "      <td>8.0</td>\n",
       "      <td>April 27, 2010</td>\n",
       "      <td>192</td>\n",
       "      <td>My son halfway fourth week Intuniv We became c...</td>\n",
       "      <td>NaN</td>\n",
       "      <td>NaN</td>\n",
       "      <td>NaN</td>\n",
       "      <td>NaN</td>\n",
       "    </tr>\n",
       "    <tr>\n",
       "      <th>2</th>\n",
       "      <td>92703</td>\n",
       "      <td>Lybrel</td>\n",
       "      <td>Birth Control</td>\n",
       "      <td>\"I used to take another oral contraceptive, wh...</td>\n",
       "      <td>5.0</td>\n",
       "      <td>December 14, 2009</td>\n",
       "      <td>17</td>\n",
       "      <td>I used take another oral contraceptive 21 pill...</td>\n",
       "      <td>NaN</td>\n",
       "      <td>NaN</td>\n",
       "      <td>NaN</td>\n",
       "      <td>NaN</td>\n",
       "    </tr>\n",
       "    <tr>\n",
       "      <th>3</th>\n",
       "      <td>138000</td>\n",
       "      <td>Ortho Evra</td>\n",
       "      <td>Birth Control</td>\n",
       "      <td>\"This is my first time using any form of birth...</td>\n",
       "      <td>8.0</td>\n",
       "      <td>November 3, 2015</td>\n",
       "      <td>10</td>\n",
       "      <td>This first time using form birth control I039m...</td>\n",
       "      <td>NaN</td>\n",
       "      <td>NaN</td>\n",
       "      <td>NaN</td>\n",
       "      <td>NaN</td>\n",
       "    </tr>\n",
       "    <tr>\n",
       "      <th>4</th>\n",
       "      <td>35696</td>\n",
       "      <td>Buprenorphine / naloxone</td>\n",
       "      <td>Opiate Dependence</td>\n",
       "      <td>\"Suboxone has completely turned my life around...</td>\n",
       "      <td>9.0</td>\n",
       "      <td>November 27, 2016</td>\n",
       "      <td>37</td>\n",
       "      <td>Suboxone completely turned life around I feel ...</td>\n",
       "      <td>NaN</td>\n",
       "      <td>NaN</td>\n",
       "      <td>NaN</td>\n",
       "      <td>NaN</td>\n",
       "    </tr>\n",
       "  </tbody>\n",
       "</table>\n",
       "</div>"
      ],
      "text/plain": [
       "       Id                  drugName                     condition  \\\n",
       "0  206461                 Valsartan  Left Ventricular Dysfunction   \n",
       "1   95260                Guanfacine                          ADHD   \n",
       "2   92703                    Lybrel                 Birth Control   \n",
       "3  138000                Ortho Evra                 Birth Control   \n",
       "4   35696  Buprenorphine / naloxone             Opiate Dependence   \n",
       "\n",
       "                                              review  rating  \\\n",
       "0  \"It has no side effect, I take it in combinati...     9.0   \n",
       "1  \"My son is halfway through his fourth week of ...     8.0   \n",
       "2  \"I used to take another oral contraceptive, wh...     5.0   \n",
       "3  \"This is my first time using any form of birth...     8.0   \n",
       "4  \"Suboxone has completely turned my life around...     9.0   \n",
       "\n",
       "                date  usefulCount  \\\n",
       "0       May 20, 2012           27   \n",
       "1     April 27, 2010          192   \n",
       "2  December 14, 2009           17   \n",
       "3   November 3, 2015           10   \n",
       "4  November 27, 2016           37   \n",
       "\n",
       "                                         cleanReview  neg  neu  pos  compound  \n",
       "0  It side effect I take combination Bystolic 5 M...  NaN  NaN  NaN       NaN  \n",
       "1  My son halfway fourth week Intuniv We became c...  NaN  NaN  NaN       NaN  \n",
       "2  I used take another oral contraceptive 21 pill...  NaN  NaN  NaN       NaN  \n",
       "3  This first time using form birth control I039m...  NaN  NaN  NaN       NaN  \n",
       "4  Suboxone completely turned life around I feel ...  NaN  NaN  NaN       NaN  "
      ]
     },
     "execution_count": 174,
     "metadata": {},
     "output_type": "execute_result"
    }
   ],
   "source": [
    "vaderResults = pd.DataFrame(res)\n",
    "\n",
    "vaderResults = vaderResults.T\n",
    "\n",
    "vaderResults = vaderResults.reset_index().rename(columns={\n",
    "    'index' : 'Id'\n",
    "})\n",
    "\n",
    "# Final Dataset with vader polarity scores\n",
    "data = data.merge(vaderResults, how='left')\n",
    "\n",
    "data.head()\n"
   ]
  },
  {
   "cell_type": "code",
   "execution_count": 175,
   "id": "966b6999",
   "metadata": {},
   "outputs": [],
   "source": [
    "# from tqdm.notebook import tqdm\n",
    "\n",
    "# for i, row in tqdm(data.iterrows(), total=len(data)):\n",
    "#     reviewText = row['review']\n",
    "#     vader_sentiments = sia.polarity_scores(reviewText)\n",
    "    \n",
    "#     # Vader sentiment polarity\n",
    "#     data['vader_neg'] = vader_sentiments['neg']\n",
    "#     data['vader_neu'] = vader_sentiments['neu']\n",
    "#     data['vader_pos'] = vader_sentiments['pos']\n",
    "#     data['vader_compound'] = vader_sentiments['compound']"
   ]
  },
  {
   "cell_type": "code",
   "execution_count": 176,
   "id": "b8ea6a0a",
   "metadata": {},
   "outputs": [
    {
     "data": {
      "text/html": [
       "<div>\n",
       "<style scoped>\n",
       "    .dataframe tbody tr th:only-of-type {\n",
       "        vertical-align: middle;\n",
       "    }\n",
       "\n",
       "    .dataframe tbody tr th {\n",
       "        vertical-align: top;\n",
       "    }\n",
       "\n",
       "    .dataframe thead th {\n",
       "        text-align: right;\n",
       "    }\n",
       "</style>\n",
       "<table border=\"1\" class=\"dataframe\">\n",
       "  <thead>\n",
       "    <tr style=\"text-align: right;\">\n",
       "      <th></th>\n",
       "      <th>Id</th>\n",
       "      <th>drugName</th>\n",
       "      <th>condition</th>\n",
       "      <th>review</th>\n",
       "      <th>rating</th>\n",
       "      <th>date</th>\n",
       "      <th>usefulCount</th>\n",
       "      <th>cleanReview</th>\n",
       "      <th>neg</th>\n",
       "      <th>neu</th>\n",
       "      <th>pos</th>\n",
       "      <th>compound</th>\n",
       "      <th>sentiment</th>\n",
       "    </tr>\n",
       "  </thead>\n",
       "  <tbody>\n",
       "    <tr>\n",
       "      <th>0</th>\n",
       "      <td>206461</td>\n",
       "      <td>Valsartan</td>\n",
       "      <td>Left Ventricular Dysfunction</td>\n",
       "      <td>\"It has no side effect, I take it in combinati...</td>\n",
       "      <td>9.0</td>\n",
       "      <td>May 20, 2012</td>\n",
       "      <td>27</td>\n",
       "      <td>It side effect I take combination Bystolic 5 M...</td>\n",
       "      <td>NaN</td>\n",
       "      <td>NaN</td>\n",
       "      <td>NaN</td>\n",
       "      <td>NaN</td>\n",
       "      <td>Neutral</td>\n",
       "    </tr>\n",
       "    <tr>\n",
       "      <th>1</th>\n",
       "      <td>95260</td>\n",
       "      <td>Guanfacine</td>\n",
       "      <td>ADHD</td>\n",
       "      <td>\"My son is halfway through his fourth week of ...</td>\n",
       "      <td>8.0</td>\n",
       "      <td>April 27, 2010</td>\n",
       "      <td>192</td>\n",
       "      <td>My son halfway fourth week Intuniv We became c...</td>\n",
       "      <td>NaN</td>\n",
       "      <td>NaN</td>\n",
       "      <td>NaN</td>\n",
       "      <td>NaN</td>\n",
       "      <td>Neutral</td>\n",
       "    </tr>\n",
       "    <tr>\n",
       "      <th>2</th>\n",
       "      <td>92703</td>\n",
       "      <td>Lybrel</td>\n",
       "      <td>Birth Control</td>\n",
       "      <td>\"I used to take another oral contraceptive, wh...</td>\n",
       "      <td>5.0</td>\n",
       "      <td>December 14, 2009</td>\n",
       "      <td>17</td>\n",
       "      <td>I used take another oral contraceptive 21 pill...</td>\n",
       "      <td>NaN</td>\n",
       "      <td>NaN</td>\n",
       "      <td>NaN</td>\n",
       "      <td>NaN</td>\n",
       "      <td>Neutral</td>\n",
       "    </tr>\n",
       "    <tr>\n",
       "      <th>3</th>\n",
       "      <td>138000</td>\n",
       "      <td>Ortho Evra</td>\n",
       "      <td>Birth Control</td>\n",
       "      <td>\"This is my first time using any form of birth...</td>\n",
       "      <td>8.0</td>\n",
       "      <td>November 3, 2015</td>\n",
       "      <td>10</td>\n",
       "      <td>This first time using form birth control I039m...</td>\n",
       "      <td>NaN</td>\n",
       "      <td>NaN</td>\n",
       "      <td>NaN</td>\n",
       "      <td>NaN</td>\n",
       "      <td>Neutral</td>\n",
       "    </tr>\n",
       "    <tr>\n",
       "      <th>4</th>\n",
       "      <td>35696</td>\n",
       "      <td>Buprenorphine / naloxone</td>\n",
       "      <td>Opiate Dependence</td>\n",
       "      <td>\"Suboxone has completely turned my life around...</td>\n",
       "      <td>9.0</td>\n",
       "      <td>November 27, 2016</td>\n",
       "      <td>37</td>\n",
       "      <td>Suboxone completely turned life around I feel ...</td>\n",
       "      <td>NaN</td>\n",
       "      <td>NaN</td>\n",
       "      <td>NaN</td>\n",
       "      <td>NaN</td>\n",
       "      <td>Neutral</td>\n",
       "    </tr>\n",
       "    <tr>\n",
       "      <th>...</th>\n",
       "      <td>...</td>\n",
       "      <td>...</td>\n",
       "      <td>...</td>\n",
       "      <td>...</td>\n",
       "      <td>...</td>\n",
       "      <td>...</td>\n",
       "      <td>...</td>\n",
       "      <td>...</td>\n",
       "      <td>...</td>\n",
       "      <td>...</td>\n",
       "      <td>...</td>\n",
       "      <td>...</td>\n",
       "      <td>...</td>\n",
       "    </tr>\n",
       "    <tr>\n",
       "      <th>4995</th>\n",
       "      <td>112547</td>\n",
       "      <td>Lunesta</td>\n",
       "      <td>Insomnia</td>\n",
       "      <td>\"I&amp;#039;ve suffered with insomnia for many yea...</td>\n",
       "      <td>1.0</td>\n",
       "      <td>October 12, 2017</td>\n",
       "      <td>0</td>\n",
       "      <td>I039ve suffered insomnia many years Ambien I b...</td>\n",
       "      <td>NaN</td>\n",
       "      <td>NaN</td>\n",
       "      <td>NaN</td>\n",
       "      <td>NaN</td>\n",
       "      <td>Neutral</td>\n",
       "    </tr>\n",
       "    <tr>\n",
       "      <th>4996</th>\n",
       "      <td>14245</td>\n",
       "      <td>Myrbetriq</td>\n",
       "      <td>Overactive Bladde</td>\n",
       "      <td>\"The medication does work for me, but the cost...</td>\n",
       "      <td>10.0</td>\n",
       "      <td>January 16, 2015</td>\n",
       "      <td>46</td>\n",
       "      <td>The medication work me cost hard ship</td>\n",
       "      <td>NaN</td>\n",
       "      <td>NaN</td>\n",
       "      <td>NaN</td>\n",
       "      <td>NaN</td>\n",
       "      <td>Neutral</td>\n",
       "    </tr>\n",
       "    <tr>\n",
       "      <th>4997</th>\n",
       "      <td>157502</td>\n",
       "      <td>Emtricitabine / rilpivirine / tenofovir</td>\n",
       "      <td>HIV Infection</td>\n",
       "      <td>\"It&amp;#039;s been almost 2 years since switching...</td>\n",
       "      <td>9.0</td>\n",
       "      <td>November 24, 2015</td>\n",
       "      <td>6</td>\n",
       "      <td>It039s almost 2 years since switching Atripla ...</td>\n",
       "      <td>NaN</td>\n",
       "      <td>NaN</td>\n",
       "      <td>NaN</td>\n",
       "      <td>NaN</td>\n",
       "      <td>Neutral</td>\n",
       "    </tr>\n",
       "    <tr>\n",
       "      <th>4998</th>\n",
       "      <td>16118</td>\n",
       "      <td>Ethinyl estradiol / norethindrone</td>\n",
       "      <td>Birth Control</td>\n",
       "      <td>\"Does a good job at preventing pregnancy... Bu...</td>\n",
       "      <td>7.0</td>\n",
       "      <td>May 10, 2016</td>\n",
       "      <td>6</td>\n",
       "      <td>Does good job preventing pregnancy But Gained ...</td>\n",
       "      <td>NaN</td>\n",
       "      <td>NaN</td>\n",
       "      <td>NaN</td>\n",
       "      <td>NaN</td>\n",
       "      <td>Neutral</td>\n",
       "    </tr>\n",
       "    <tr>\n",
       "      <th>4999</th>\n",
       "      <td>6039</td>\n",
       "      <td>Flecainide</td>\n",
       "      <td>Paroxysmal Supraventricular Tachycardia</td>\n",
       "      <td>\"I have been taking it for over 12 years.I am ...</td>\n",
       "      <td>10.0</td>\n",
       "      <td>March 29, 2009</td>\n",
       "      <td>42</td>\n",
       "      <td>I taking 12 yearsI lowest dosage point side ef...</td>\n",
       "      <td>NaN</td>\n",
       "      <td>NaN</td>\n",
       "      <td>NaN</td>\n",
       "      <td>NaN</td>\n",
       "      <td>Neutral</td>\n",
       "    </tr>\n",
       "  </tbody>\n",
       "</table>\n",
       "<p>5000 rows × 13 columns</p>\n",
       "</div>"
      ],
      "text/plain": [
       "          Id                                 drugName  \\\n",
       "0     206461                                Valsartan   \n",
       "1      95260                               Guanfacine   \n",
       "2      92703                                   Lybrel   \n",
       "3     138000                               Ortho Evra   \n",
       "4      35696                 Buprenorphine / naloxone   \n",
       "...      ...                                      ...   \n",
       "4995  112547                                  Lunesta   \n",
       "4996   14245                                Myrbetriq   \n",
       "4997  157502  Emtricitabine / rilpivirine / tenofovir   \n",
       "4998   16118        Ethinyl estradiol / norethindrone   \n",
       "4999    6039                               Flecainide   \n",
       "\n",
       "                                    condition  \\\n",
       "0                Left Ventricular Dysfunction   \n",
       "1                                        ADHD   \n",
       "2                               Birth Control   \n",
       "3                               Birth Control   \n",
       "4                           Opiate Dependence   \n",
       "...                                       ...   \n",
       "4995                                 Insomnia   \n",
       "4996                        Overactive Bladde   \n",
       "4997                            HIV Infection   \n",
       "4998                            Birth Control   \n",
       "4999  Paroxysmal Supraventricular Tachycardia   \n",
       "\n",
       "                                                 review  rating  \\\n",
       "0     \"It has no side effect, I take it in combinati...     9.0   \n",
       "1     \"My son is halfway through his fourth week of ...     8.0   \n",
       "2     \"I used to take another oral contraceptive, wh...     5.0   \n",
       "3     \"This is my first time using any form of birth...     8.0   \n",
       "4     \"Suboxone has completely turned my life around...     9.0   \n",
       "...                                                 ...     ...   \n",
       "4995  \"I&#039;ve suffered with insomnia for many yea...     1.0   \n",
       "4996  \"The medication does work for me, but the cost...    10.0   \n",
       "4997  \"It&#039;s been almost 2 years since switching...     9.0   \n",
       "4998  \"Does a good job at preventing pregnancy... Bu...     7.0   \n",
       "4999  \"I have been taking it for over 12 years.I am ...    10.0   \n",
       "\n",
       "                   date  usefulCount  \\\n",
       "0          May 20, 2012           27   \n",
       "1        April 27, 2010          192   \n",
       "2     December 14, 2009           17   \n",
       "3      November 3, 2015           10   \n",
       "4     November 27, 2016           37   \n",
       "...                 ...          ...   \n",
       "4995   October 12, 2017            0   \n",
       "4996   January 16, 2015           46   \n",
       "4997  November 24, 2015            6   \n",
       "4998       May 10, 2016            6   \n",
       "4999     March 29, 2009           42   \n",
       "\n",
       "                                            cleanReview  neg  neu  pos  \\\n",
       "0     It side effect I take combination Bystolic 5 M...  NaN  NaN  NaN   \n",
       "1     My son halfway fourth week Intuniv We became c...  NaN  NaN  NaN   \n",
       "2     I used take another oral contraceptive 21 pill...  NaN  NaN  NaN   \n",
       "3     This first time using form birth control I039m...  NaN  NaN  NaN   \n",
       "4     Suboxone completely turned life around I feel ...  NaN  NaN  NaN   \n",
       "...                                                 ...  ...  ...  ...   \n",
       "4995  I039ve suffered insomnia many years Ambien I b...  NaN  NaN  NaN   \n",
       "4996              The medication work me cost hard ship  NaN  NaN  NaN   \n",
       "4997  It039s almost 2 years since switching Atripla ...  NaN  NaN  NaN   \n",
       "4998  Does good job preventing pregnancy But Gained ...  NaN  NaN  NaN   \n",
       "4999  I taking 12 yearsI lowest dosage point side ef...  NaN  NaN  NaN   \n",
       "\n",
       "      compound sentiment  \n",
       "0          NaN   Neutral  \n",
       "1          NaN   Neutral  \n",
       "2          NaN   Neutral  \n",
       "3          NaN   Neutral  \n",
       "4          NaN   Neutral  \n",
       "...        ...       ...  \n",
       "4995       NaN   Neutral  \n",
       "4996       NaN   Neutral  \n",
       "4997       NaN   Neutral  \n",
       "4998       NaN   Neutral  \n",
       "4999       NaN   Neutral  \n",
       "\n",
       "[5000 rows x 13 columns]"
      ]
     },
     "execution_count": 176,
     "metadata": {},
     "output_type": "execute_result"
    }
   ],
   "source": [
    "def label_sentiment(compound):\n",
    "    if compound > 0.05:\n",
    "        return 'Positive'\n",
    "    elif compound < -0.05:\n",
    "        return 'Negative'\n",
    "    else:\n",
    "        return 'Neutral'\n",
    "    \n",
    "data['sentiment'] = data['compound'].apply(label_sentiment)\n",
    "\n",
    "data\n"
   ]
  },
  {
   "cell_type": "code",
   "execution_count": 177,
   "id": "b93d221c",
   "metadata": {},
   "outputs": [
    {
     "ename": "TypeError",
     "evalue": "'DataFrame' object is not callable",
     "output_type": "error",
     "traceback": [
      "\u001b[0;31m---------------------------------------------------------------------------\u001b[0m",
      "\u001b[0;31mTypeError\u001b[0m                                 Traceback (most recent call last)",
      "Cell \u001b[0;32mIn[177], line 5\u001b[0m\n\u001b[1;32m      1\u001b[0m \u001b[38;5;66;03m# vader_data = pd.read_csv('vader_sentiments.csv')\u001b[39;00m\n\u001b[1;32m      2\u001b[0m \u001b[38;5;66;03m# # vader_data.head(20)\u001b[39;00m\n\u001b[1;32m      3\u001b[0m \u001b[38;5;66;03m# # data.to_csv('vader_sentiments.csv')\u001b[39;00m\n\u001b[0;32m----> 5\u001b[0m postive \u001b[38;5;241m=\u001b[39m \u001b[38;5;28mlen\u001b[39m(data(data[\u001b[38;5;124m'\u001b[39m\u001b[38;5;124mcompound\u001b[39m\u001b[38;5;124m'\u001b[39m] \u001b[38;5;241m>\u001b[39m\u001b[38;5;241m=\u001b[39m \u001b[38;5;241m0.05\u001b[39m))\n\u001b[1;32m      6\u001b[0m negative \u001b[38;5;241m=\u001b[39m \u001b[38;5;28mlen\u001b[39m(data(data[\u001b[38;5;124m'\u001b[39m\u001b[38;5;124mcompound\u001b[39m\u001b[38;5;124m'\u001b[39m] \u001b[38;5;241m<\u001b[39m\u001b[38;5;241m=\u001b[39m \u001b[38;5;241m0.05\u001b[39m))\n\u001b[1;32m      7\u001b[0m negative\n",
      "\u001b[0;31mTypeError\u001b[0m: 'DataFrame' object is not callable"
     ]
    }
   ],
   "source": [
    "# vader_data = pd.read_csv('vader_sentiments.csv')\n",
    "# # vader_data.head(20)\n",
    "# # data.to_csv('vader_sentiments.csv')\n",
    "\n",
    "postive = len(data(data['compound'] >= 0.05))\n",
    "negative = len(data(data['compound'] <= 0.05))\n",
    "negative"
   ]
  },
  {
   "cell_type": "code",
   "execution_count": null,
   "id": "1058ddf6",
   "metadata": {},
   "outputs": [
    {
     "data": {
      "image/png": "[encoded data removed]",
      "text/plain": [
       "<Figure size 640x480 with 1 Axes>"
      ]
     },
     "metadata": {},
     "output_type": "display_data"
    }
   ],
   "source": [
    "import seaborn as sns\n",
    "\n",
    "ax = sns.barplot(data=data, x = 'rating', y = 'compound')\n",
    "ax.set_xlabel('Ratings')\n",
    "plt.show()"
   ]
  },
  {
   "cell_type": "code",
   "execution_count": null,
   "id": "2687117b",
   "metadata": {},
   "outputs": [
    {
     "data": {
      "image/png": "[encoded data removed]",
      "text/plain": [
       "<Figure size 1500x300 with 3 Axes>"
      ]
     },
     "metadata": {},
     "output_type": "display_data"
    }
   ],
   "source": [
    "fig, axs = plt.subplots(1,3, figsize=(15,3))\n",
    "sns.barplot(data=data, x = 'rating', y = 'pos', ax=axs[0])\n",
    "sns.barplot(data=data, x = 'rating', y = 'neu', ax=axs[1])\n",
    "sns.barplot(data=data, x = 'rating', y = 'neg', ax=axs[2])\n",
    "axs[0].set_title('Positive')\n",
    "axs[1].set_title('Neutral')\n",
    "axs[2].set_title('Negative')\n",
    "plt.show()"
   ]
  },
  {
   "cell_type": "code",
   "execution_count": null,
   "id": "18d1ac1f-2003-409c-b8e5-d6be81c188ba",
   "metadata": {},
   "outputs": [
    {
     "data": {
      "text/plain": [
       "0       Negative\n",
       "1       Positive\n",
       "2       Positive\n",
       "3       Positive\n",
       "4       Positive\n",
       "          ...   \n",
       "9995    Negative\n",
       "9996    Negative\n",
       "9997    Negative\n",
       "9998    Negative\n",
       "9999    Negative\n",
       "Name: sentiment, Length: 10000, dtype: object"
      ]
     },
     "execution_count": 395,
     "metadata": {},
     "output_type": "execute_result"
    }
   ],
   "source": [
    "# Text Tokenization and Cleaning\n",
    "import re\n",
    "from nltk.corpus import stopwords\n",
    "from nltk.tokenize import word_tokenize\n",
    "from sklearn.feature_extraction.text import TfidfVectorizer\n",
    "from sklearn.linear_model import LogisticRegression\n",
    "from sklearn.metrics import accuracy_score, classification_report\n",
    "\n",
    "stop_words = set(stopwords.words('english'))\n",
    "\n",
    "def clean_text(text):\n",
    "    text = re.sub(r'[^\\w\\s]', '', text)  # remove punctuation\n",
    "    text = text.lower()  # convert to lowercase\n",
    "    tokens = word_tokenize(text)  # tokenize text\n",
    "    filtered_tokens = [word for word in tokens if word not in stop_words]  # remove stopwords\n",
    "    return ' '.join(filtered_tokens)\n",
    "\n",
    "data['clean_review'] = data['review'].apply(clean_text)\n",
    "\n",
    "# Feature Engineering\n",
    "tfidf_vectorizer = TfidfVectorizer()\n",
    "X = tfidf_vectorizer.fit_transform(data['clean_review'])\n",
    "y = data['sentiment']"
   ]
  },
  {
   "cell_type": "code",
   "execution_count": null,
   "id": "1321ac11-3c5e-477d-a1a3-45f9b5a2052d",
   "metadata": {},
   "outputs": [
    {
     "name": "stdout",
     "output_type": "stream",
     "text": [
      "Accuracy: 0.825759454432734\n",
      "Classification Report:\n"
     ]
    },
    {
     "ename": "NameError",
     "evalue": "name 'classificati_report' is not defined",
     "output_type": "error",
     "traceback": [
      "\u001b[0;31m---------------------------------------------------------------------------\u001b[0m",
      "\u001b[0;31mNameError\u001b[0m                                 Traceback (most recent call last)",
      "Cell \u001b[0;32mIn[9], line 13\u001b[0m\n\u001b[1;32m     11\u001b[0m \u001b[38;5;28mprint\u001b[39m(\u001b[38;5;124m\"\u001b[39m\u001b[38;5;124mAccuracy:\u001b[39m\u001b[38;5;124m\"\u001b[39m, accuracy)\n\u001b[1;32m     12\u001b[0m \u001b[38;5;28mprint\u001b[39m(\u001b[38;5;124m\"\u001b[39m\u001b[38;5;124mClassification Report:\u001b[39m\u001b[38;5;124m\"\u001b[39m)\n\u001b[0;32m---> 13\u001b[0m \u001b[38;5;28mprint\u001b[39m(classificati_report(y_test, y_onpred))\n",
      "\u001b[0;31mNameError\u001b[0m: name 'classificati_report' is not defined"
     ]
    }
   ],
   "source": [
    "# Splitting the dataset\n",
    "X_train, X_test, y_train, y_test = train_test_split(X, y, test_size=0.2, random_state=42)\n",
    "\n",
    "# Training a Sentiment Classifier\n",
    "classifier = LogisticRegression(max_iter=1000)\n",
    "classifier.fit(X_train, y_train)\n",
    "\n",
    "# Evaluation\n",
    "y_pred = classifier.predict(X_test)\n",
    "accuracy = accuracy_score(y_test, y_pred)\n",
    "print(\"Accuracy:\", accuracy)\n",
    "print(\"Classification Report:\")\n",
    "print(classificati_report(y_test, y_onpred))"
   ]
  },
  {
   "cell_type": "code",
   "execution_count": null,
   "id": "cf8b8bc4-b275-4e32-bc53-cdb87c8a3d85",
   "metadata": {},
   "outputs": [
    {
     "name": "stdout",
     "output_type": "stream",
     "text": [
      "                                              review  rating sentiment  \\\n",
      "0  \"It has no side effect, I take it in combinati...     9.0  positive   \n",
      "1  \"My son is halfway through his fourth week of ...     8.0  positive   \n",
      "2  \"I used to take another oral contraceptive, wh...     5.0   neutral   \n",
      "3  \"This is my first time using any form of birth...     8.0  positive   \n",
      "4  \"Suboxone has completely turned my life around...     9.0  positive   \n",
      "5  \"2nd day on 5mg started to work with rock hard...     2.0  negative   \n",
      "6  \"He pulled out, but he cummed a bit in me. I t...     1.0  negative   \n",
      "7  \"Abilify changed my life. There is hope. I was...    10.0  positive   \n",
      "8  \" I Ve had  nothing but problems with the Kepp...     1.0  negative   \n",
      "9  \"I had been on the pill for many years. When m...     8.0  positive   \n",
      "\n",
      "  predicted_sentiment  \n",
      "0            positive  \n",
      "1            positive  \n",
      "2            positive  \n",
      "3            positive  \n",
      "4            positive  \n",
      "5            positive  \n",
      "6            negative  \n",
      "7            positive  \n",
      "8            negative  \n",
      "9            positive  \n"
     ]
    }
   ],
   "source": [
    "# Sentiment Analysis\n",
    "data['predicted_sentiment'] = classifier.predict(tfidf_vectorizer.transform(data['clean_review']))\n",
    "\n",
    "# Displaying the results\n",
    "print(data[['review', 'rating', 'sentiment', 'predicted_sentiment']].head(10))"
   ]
  },
  {
   "cell_type": "code",
   "execution_count": null,
   "id": "32c24721",
   "metadata": {},
   "outputs": [],
   "source": []
  }
 ],
 "metadata": {
  "kernelspec": {
   "display_name": "Python 3 (ipykernel)",
   "language": "python",
   "name": "python3"
  },
  "language_info": {
   "codemirror_mode": {
    "name": "ipython",
    "version": 3
   },
   "file_extension": ".py",
   "mimetype": "text/x-python",
   "name": "python",
   "nbconvert_exporter": "python",
   "pygments_lexer": "ipython3",
   "version": "3.11.7"
  }
 },
 "nbformat": 4,
 "nbformat_minor": 5
}
